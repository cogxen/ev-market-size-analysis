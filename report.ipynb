{
 "cells": [
  {
   "metadata": {},
   "cell_type": "markdown",
   "source": "# Electric Vehicle Market Analysis",
   "id": "d68927b04f4f42b8"
  },
  {
   "metadata": {},
   "cell_type": "markdown",
   "source": "This report provides a guide and Python code to perform a market size analysis for the electric vehicle (EV) industry. Market size analysis helps businesses understand the potential of a market, assess competition, and identify growth opportunities.",
   "id": "e32a1c4902778a64"
  },
  {
   "metadata": {},
   "cell_type": "markdown",
   "source": "## Import Libraries",
   "id": "db191f7bd0f87782"
  },
  {
   "metadata": {
    "ExecuteTime": {
     "end_time": "2024-05-13T16:58:17.867436Z",
     "start_time": "2024-05-13T16:58:16.502128Z"
    }
   },
   "cell_type": "code",
   "source": [
    "import pandas as pd\n",
    "import numpy as np\n",
    "import matplotlib.pyplot as plt\n",
    "import seaborn as sns"
   ],
   "id": "4726d17a00d14f15",
   "outputs": [],
   "execution_count": 3
  },
  {
   "metadata": {},
   "cell_type": "markdown",
   "source": [
    "## Data Preprocessing\n",
    "- Load the dataset\n",
    "- Check for missing values\n",
    "- Drop irrelevant columns"
   ],
   "id": "2e45b4dd8e1f181e"
  },
  {
   "metadata": {
    "ExecuteTime": {
     "end_time": "2024-05-13T17:00:35.548497Z",
     "start_time": "2024-05-13T17:00:35.078479Z"
    }
   },
   "cell_type": "code",
   "source": [
    "# Load the dataset and display the first 20 rows\n",
    "ds = pd.read_csv(\"assets/dataset.csv\")\n",
    "print(ds.head(20))"
   ],
   "id": "9e0caa499002602e",
   "outputs": [
    {
     "name": "stdout",
     "output_type": "stream",
     "text": [
      "    VIN (1-10)     County               City State  Postal Code  Model Year  \\\n",
      "0   5YJYGDEE1L       King            Seattle    WA      98122.0        2020   \n",
      "1   7SAYGDEE9P  Snohomish            Bothell    WA      98021.0        2023   \n",
      "2   5YJSA1E4XK       King            Seattle    WA      98109.0        2019   \n",
      "3   5YJSA1E27G       King           Issaquah    WA      98027.0        2016   \n",
      "4   5YJYGDEE5M     Kitsap          Suquamish    WA      98392.0        2021   \n",
      "5   3FA6P0SU8H   Thurston               Yelm    WA      98597.0        2017   \n",
      "6   1N4AZ0CP2D     Yakima             Yakima    WA      98903.0        2013   \n",
      "7   KNAGV4LD9J  Snohomish            Bothell    WA      98012.0        2018   \n",
      "8   1N4AZ0CP8F     Kitsap       Port Orchard    WA      98366.0        2015   \n",
      "9   5UXTA6C03N       King             Auburn    WA      98001.0        2022   \n",
      "10  5YJYGDEEXL       King            Seattle    WA      98144.0        2020   \n",
      "11  WBY8P8C53K     Kitsap  Bainbridge Island    WA      98110.0        2019   \n",
      "12  1G1FZ6S07M     Yakima             Yakima    WA      98908.0        2021   \n",
      "13  WA1E2AFY4M  Snohomish           Lynnwood    WA      98036.0        2021   \n",
      "14  1N4AZ0CP0F       King            Seattle    WA      98119.0        2015   \n",
      "15  1N4AZ0CP6D       King            Seattle    WA      98107.0        2013   \n",
      "16  1N4AZ0CP6D  Snohomish           Lynnwood    WA      98087.0        2013   \n",
      "17  1N4BZ0CP3H  Snohomish            Bothell    WA      98021.0        2017   \n",
      "18  5YJ3E1EB4L       King            Seattle    WA      98126.0        2020   \n",
      "19  5YJ3E1EA5K     Yakima             Yakima    WA      98903.0        2019   \n",
      "\n",
      "         Make    Model                   Electric Vehicle Type  \\\n",
      "0       TESLA  MODEL Y          Battery Electric Vehicle (BEV)   \n",
      "1       TESLA  MODEL Y          Battery Electric Vehicle (BEV)   \n",
      "2       TESLA  MODEL S          Battery Electric Vehicle (BEV)   \n",
      "3       TESLA  MODEL S          Battery Electric Vehicle (BEV)   \n",
      "4       TESLA  MODEL Y          Battery Electric Vehicle (BEV)   \n",
      "5        FORD   FUSION  Plug-in Hybrid Electric Vehicle (PHEV)   \n",
      "6      NISSAN     LEAF          Battery Electric Vehicle (BEV)   \n",
      "7         KIA   OPTIMA  Plug-in Hybrid Electric Vehicle (PHEV)   \n",
      "8      NISSAN     LEAF          Battery Electric Vehicle (BEV)   \n",
      "9         BMW       X5  Plug-in Hybrid Electric Vehicle (PHEV)   \n",
      "10      TESLA  MODEL Y          Battery Electric Vehicle (BEV)   \n",
      "11        BMW       I3  Plug-in Hybrid Electric Vehicle (PHEV)   \n",
      "12  CHEVROLET  BOLT EV          Battery Electric Vehicle (BEV)   \n",
      "13       AUDI     Q5 E  Plug-in Hybrid Electric Vehicle (PHEV)   \n",
      "14     NISSAN     LEAF          Battery Electric Vehicle (BEV)   \n",
      "15     NISSAN     LEAF          Battery Electric Vehicle (BEV)   \n",
      "16     NISSAN     LEAF          Battery Electric Vehicle (BEV)   \n",
      "17     NISSAN     LEAF          Battery Electric Vehicle (BEV)   \n",
      "18      TESLA  MODEL 3          Battery Electric Vehicle (BEV)   \n",
      "19      TESLA  MODEL 3          Battery Electric Vehicle (BEV)   \n",
      "\n",
      "    Clean Alternative Fuel Vehicle (CAFV) Eligibility  Electric Range  \\\n",
      "0             Clean Alternative Fuel Vehicle Eligible             291   \n",
      "1   Eligibility unknown as battery range has not b...               0   \n",
      "2             Clean Alternative Fuel Vehicle Eligible             270   \n",
      "3             Clean Alternative Fuel Vehicle Eligible             210   \n",
      "4   Eligibility unknown as battery range has not b...               0   \n",
      "5               Not eligible due to low battery range              21   \n",
      "6             Clean Alternative Fuel Vehicle Eligible              75   \n",
      "7               Not eligible due to low battery range              29   \n",
      "8             Clean Alternative Fuel Vehicle Eligible              84   \n",
      "9             Clean Alternative Fuel Vehicle Eligible              30   \n",
      "10            Clean Alternative Fuel Vehicle Eligible             291   \n",
      "11            Clean Alternative Fuel Vehicle Eligible             126   \n",
      "12  Eligibility unknown as battery range has not b...               0   \n",
      "13              Not eligible due to low battery range              18   \n",
      "14            Clean Alternative Fuel Vehicle Eligible              84   \n",
      "15            Clean Alternative Fuel Vehicle Eligible              75   \n",
      "16            Clean Alternative Fuel Vehicle Eligible              75   \n",
      "17            Clean Alternative Fuel Vehicle Eligible             107   \n",
      "18            Clean Alternative Fuel Vehicle Eligible             322   \n",
      "19            Clean Alternative Fuel Vehicle Eligible             220   \n",
      "\n",
      "    Base MSRP  Legislative District  DOL Vehicle ID  \\\n",
      "0           0                  37.0       125701579   \n",
      "1           0                   1.0       244285107   \n",
      "2           0                  36.0       156773144   \n",
      "3           0                   5.0       165103011   \n",
      "4           0                  23.0       205138552   \n",
      "5           0                   2.0       122057736   \n",
      "6           0                  14.0       150126840   \n",
      "7           0                   1.0       290605598   \n",
      "8           0                  26.0       137322111   \n",
      "9           0                  47.0       240226332   \n",
      "10          0                  37.0       113323024   \n",
      "11          0                  23.0       228846642   \n",
      "12          0                  14.0       156686106   \n",
      "13          0                   1.0       168371122   \n",
      "14          0                  36.0       126304132   \n",
      "15          0                  43.0       100938848   \n",
      "16          0                  21.0       139800496   \n",
      "17          0                   1.0       348979466   \n",
      "18          0                  34.0       121690915   \n",
      "19          0                  14.0       198205521   \n",
      "\n",
      "                   Vehicle Location  \\\n",
      "0      POINT (-122.30839 47.610365)   \n",
      "1     POINT (-122.179458 47.802589)   \n",
      "2      POINT (-122.34848 47.632405)   \n",
      "3      POINT (-122.03646 47.534065)   \n",
      "4      POINT (-122.55717 47.733415)   \n",
      "5       POINT (-122.61023 46.94126)   \n",
      "6     POINT (-120.477805 46.553505)   \n",
      "7       POINT (-122.1873 47.820245)   \n",
      "8       POINT (-122.639265 47.5373)   \n",
      "9   POINT (-122.2849393 47.3384055)   \n",
      "10     POINT (-122.30823 47.581975)   \n",
      "11  POINT (-122.5235781 47.6293323)   \n",
      "12  POINT (-120.6027202 46.5965625)   \n",
      "13    POINT (-122.316675 47.819365)   \n",
      "14     POINT (-122.363815 47.63046)   \n",
      "15      POINT (-122.37815 47.66866)   \n",
      "16  POINT (-122.2551991 47.8650827)   \n",
      "17    POINT (-122.179458 47.802589)   \n",
      "18     POINT (-122.374105 47.54468)   \n",
      "19    POINT (-120.477805 46.553505)   \n",
      "\n",
      "                                 Electric Utility  2020 Census Tract  \n",
      "0    CITY OF SEATTLE - (WA)|CITY OF TACOMA - (WA)       5.303301e+10  \n",
      "1                          PUGET SOUND ENERGY INC       5.306105e+10  \n",
      "2    CITY OF SEATTLE - (WA)|CITY OF TACOMA - (WA)       5.303301e+10  \n",
      "3   PUGET SOUND ENERGY INC||CITY OF TACOMA - (WA)       5.303303e+10  \n",
      "4                          PUGET SOUND ENERGY INC       5.303594e+10  \n",
      "5                          PUGET SOUND ENERGY INC       5.306701e+10  \n",
      "6                                      PACIFICORP       5.307700e+10  \n",
      "7                          PUGET SOUND ENERGY INC       5.306105e+10  \n",
      "8                          PUGET SOUND ENERGY INC       5.303509e+10  \n",
      "9   PUGET SOUND ENERGY INC||CITY OF TACOMA - (WA)       5.303303e+10  \n",
      "10   CITY OF SEATTLE - (WA)|CITY OF TACOMA - (WA)       5.303301e+10  \n",
      "11                         PUGET SOUND ENERGY INC       5.303509e+10  \n",
      "12                                     PACIFICORP       5.307700e+10  \n",
      "13                         PUGET SOUND ENERGY INC       5.306105e+10  \n",
      "14   CITY OF SEATTLE - (WA)|CITY OF TACOMA - (WA)       5.303301e+10  \n",
      "15   CITY OF SEATTLE - (WA)|CITY OF TACOMA - (WA)       5.303300e+10  \n",
      "16                         PUGET SOUND ENERGY INC       5.306104e+10  \n",
      "17                         PUGET SOUND ENERGY INC       5.306105e+10  \n",
      "18   CITY OF SEATTLE - (WA)|CITY OF TACOMA - (WA)       5.303301e+10  \n",
      "19                                     PACIFICORP       5.307700e+10  \n"
     ]
    }
   ],
   "execution_count": 4
  },
  {
   "metadata": {},
   "cell_type": "markdown",
   "source": "As you can see, the data is based on the electric vehicle population in the United States. Now let's see the information about the dataset.",
   "id": "1bba243ed4d8d108"
  },
  {
   "metadata": {
    "ExecuteTime": {
     "end_time": "2024-05-13T17:03:27.430662Z",
     "start_time": "2024-05-13T17:03:27.205535Z"
    }
   },
   "cell_type": "code",
   "source": "ds.info()",
   "id": "3906967a249365c5",
   "outputs": [
    {
     "name": "stdout",
     "output_type": "stream",
     "text": [
      "<class 'pandas.core.frame.DataFrame'>\n",
      "RangeIndex: 177866 entries, 0 to 177865\n",
      "Data columns (total 17 columns):\n",
      " #   Column                                             Non-Null Count   Dtype  \n",
      "---  ------                                             --------------   -----  \n",
      " 0   VIN (1-10)                                         177866 non-null  object \n",
      " 1   County                                             177861 non-null  object \n",
      " 2   City                                               177861 non-null  object \n",
      " 3   State                                              177866 non-null  object \n",
      " 4   Postal Code                                        177861 non-null  float64\n",
      " 5   Model Year                                         177866 non-null  int64  \n",
      " 6   Make                                               177866 non-null  object \n",
      " 7   Model                                              177866 non-null  object \n",
      " 8   Electric Vehicle Type                              177866 non-null  object \n",
      " 9   Clean Alternative Fuel Vehicle (CAFV) Eligibility  177866 non-null  object \n",
      " 10  Electric Range                                     177866 non-null  int64  \n",
      " 11  Base MSRP                                          177866 non-null  int64  \n",
      " 12  Legislative District                               177477 non-null  float64\n",
      " 13  DOL Vehicle ID                                     177866 non-null  int64  \n",
      " 14  Vehicle Location                                   177857 non-null  object \n",
      " 15  Electric Utility                                   177861 non-null  object \n",
      " 16  2020 Census Tract                                  177861 non-null  float64\n",
      "dtypes: float64(3), int64(4), object(10)\n",
      "memory usage: 23.1+ MB\n"
     ]
    }
   ],
   "execution_count": 5
  }
 ],
 "metadata": {
  "kernelspec": {
   "display_name": "Python 3",
   "language": "python",
   "name": "python3"
  },
  "language_info": {
   "codemirror_mode": {
    "name": "ipython",
    "version": 2
   },
   "file_extension": ".py",
   "mimetype": "text/x-python",
   "name": "python",
   "nbconvert_exporter": "python",
   "pygments_lexer": "ipython2",
   "version": "2.7.6"
  }
 },
 "nbformat": 4,
 "nbformat_minor": 5
}
